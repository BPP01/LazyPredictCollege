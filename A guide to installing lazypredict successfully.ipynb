{
 "cells": [
  {
   "cell_type": "markdown",
   "id": "812cf504",
   "metadata": {},
   "source": [
    "Lazypredict is an amalgamator that works by combining many of the machine learning algorithms supplied in the scikit-learn package. \n",
    "\n",
    "It's a really nice tool because you can v rapidly assses several different prediction algorithms and work out which one is actually going to be the most useful for your instance. \n",
    "\n",
    "However, the simple install is not straighforwards as you get an error caused by a version clash with scikit-learn that it wraps around. \n",
    "\n",
    "The error is as below: "
   ]
  },
  {
   "cell_type": "code",
   "execution_count": 1,
   "id": "48763d39",
   "metadata": {},
   "outputs": [
    {
     "ename": "SyntaxError",
     "evalue": "invalid syntax (1603796499.py, line 4)",
     "output_type": "error",
     "traceback": [
      "\u001b[0;36m  Input \u001b[0;32mIn [1]\u001b[0;36m\u001b[0m\n\u001b[0;31m    Output :\u001b[0m\n\u001b[0m            ^\u001b[0m\n\u001b[0;31mSyntaxError\u001b[0m\u001b[0;31m:\u001b[0m invalid syntax\n"
     ]
    }
   ],
   "source": [
    "import lazypredict\n",
    "from lazypredict.Supervised import LazyRegressor\n",
    "\n",
    "Output :\n",
    "---------------------------------------------------------------------------\n",
    "ModuleNotFoundError                       Traceback (most recent call last)\n",
    "<ipython-input-12-340b76a5a8e6> in <module>\n",
    "      1 import lazypredict\n",
    "----> 2 from lazypredict.Supervised import LazyRegressor\n",
    "\n",
    "d:\\ds env\\python\\lib\\site-packages\\lazypredict\\Supervised.py in <module>\n",
    "     14 from sklearn.preprocessing import StandardScaler, OneHotEncoder\n",
    "     15 from sklearn.compose import ColumnTransformer\n",
    "---> 16 from sklearn.utils.testing import all_estimators\n",
    "     17 from sklearn.base import RegressorMixin\n",
    "     18 from sklearn.base import ClassifierMixin\n",
    "\n",
    "ModuleNotFoundError: No module named 'sklearn.utils.testing'"
   ]
  },
  {
   "cell_type": "markdown",
   "id": "04eb29e4",
   "metadata": {},
   "source": [
    "Now there is a thread to help try and get around this but I found it pretty unhelpful as none of the the suggested fixes worked for me: https://github.com/shankarpandala/lazypredict/issues/347"
   ]
  },
  {
   "cell_type": "markdown",
   "id": "f0996ca2",
   "metadata": {},
   "source": [
    "However I was eventually able to overcome this by editing the Supervised.py file which is installed when the package is installed. \n",
    "\n",
    "First of all we need to know how to get to that file and how to edit it. Finding the package file is fine: "
   ]
  },
  {
   "cell_type": "code",
   "execution_count": 3,
   "id": "39944a5f",
   "metadata": {},
   "outputs": [
    {
     "name": "stdout",
     "output_type": "stream",
     "text": [
      "zsh:1: parse error near `>'\n",
      "Note: you may need to restart the kernel to use updated packages.\n"
     ]
    }
   ],
   "source": [
    "pip show <package name>"
   ]
  },
  {
   "cell_type": "markdown",
   "id": "0f113f25",
   "metadata": {},
   "source": [
    "Then I navigated to this in finder and edited using text edit as that's my preference, although it would also have been fine in nano or gedit or something I'm sure. "
   ]
  },
  {
   "cell_type": "markdown",
   "id": "d31af99d",
   "metadata": {},
   "source": [
    "The crucial difference for me was in one of the early lines. The issue was being caused by the line:"
   ]
  },
  {
   "cell_type": "code",
   "execution_count": 5,
   "id": "075b9166",
   "metadata": {},
   "outputs": [
    {
     "ename": "ModuleNotFoundError",
     "evalue": "No module named 'sklearn.utils.testing'",
     "output_type": "error",
     "traceback": [
      "\u001b[0;31m---------------------------------------------------------------------------\u001b[0m",
      "\u001b[0;31mModuleNotFoundError\u001b[0m                       Traceback (most recent call last)",
      "Input \u001b[0;32mIn [5]\u001b[0m, in \u001b[0;36m<cell line: 1>\u001b[0;34m()\u001b[0m\n\u001b[0;32m----> 1\u001b[0m \u001b[38;5;28;01mfrom\u001b[39;00m \u001b[38;5;21;01msklearn\u001b[39;00m\u001b[38;5;21;01m.\u001b[39;00m\u001b[38;5;21;01mutils\u001b[39;00m\u001b[38;5;21;01m.\u001b[39;00m\u001b[38;5;21;01mtesting\u001b[39;00m \u001b[38;5;28;01mimport\u001b[39;00m all_estimators\n",
      "\u001b[0;31mModuleNotFoundError\u001b[0m: No module named 'sklearn.utils.testing'"
     ]
    }
   ],
   "source": [
    "from sklearn.utils.testing import all_estimators\n"
   ]
  },
  {
   "cell_type": "markdown",
   "id": "6a058032",
   "metadata": {},
   "source": [
    "and after some trial and error in a Jupyter notebook I changed it successfully to:\n"
   ]
  },
  {
   "cell_type": "code",
   "execution_count": 6,
   "id": "99c1c812",
   "metadata": {},
   "outputs": [],
   "source": [
    "from sklearn.utils import all_estimators\n"
   ]
  },
  {
   "cell_type": "markdown",
   "id": "bc793932",
   "metadata": {},
   "source": [
    "Boom there you go - working!"
   ]
  },
  {
   "cell_type": "code",
   "execution_count": null,
   "id": "52dc1055",
   "metadata": {},
   "outputs": [],
   "source": []
  }
 ],
 "metadata": {
  "kernelspec": {
   "display_name": "Python 3 (ipykernel)",
   "language": "python",
   "name": "python3"
  },
  "language_info": {
   "codemirror_mode": {
    "name": "ipython",
    "version": 3
   },
   "file_extension": ".py",
   "mimetype": "text/x-python",
   "name": "python",
   "nbconvert_exporter": "python",
   "pygments_lexer": "ipython3",
   "version": "3.9.7"
  }
 },
 "nbformat": 4,
 "nbformat_minor": 5
}
